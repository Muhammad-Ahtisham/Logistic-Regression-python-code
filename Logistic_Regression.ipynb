{
  "nbformat": 4,
  "nbformat_minor": 0,
  "metadata": {
    "colab": {
      "provenance": []
    },
    "kernelspec": {
      "name": "python3",
      "display_name": "Python 3"
    },
    "language_info": {
      "name": "python"
    }
  },
  "cells": [
    {
      "cell_type": "code",
      "execution_count": null,
      "metadata": {
        "id": "e0huiMwJIVaK"
      },
      "outputs": [],
      "source": [
        "import numpy as np\n",
        "import matplotlib.pyplot as plt"
      ]
    },
    {
      "cell_type": "markdown",
      "source": [
        "**Sigmoid function: it squashes the output to a range between 0 and 1**"
      ],
      "metadata": {
        "id": "Ks08iTb-DbVZ"
      }
    },
    {
      "cell_type": "code",
      "source": [
        "def sigmoid(z):\n",
        "    return 1 / (1 + np.exp(-z))"
      ],
      "metadata": {
        "id": "-Xf3CD_kDQBn"
      },
      "execution_count": null,
      "outputs": []
    },
    {
      "cell_type": "markdown",
      "source": [
        "**Cost function: computes the binary cross-entropy loss**"
      ],
      "metadata": {
        "id": "QH6jDM_zEPU-"
      }
    },
    {
      "cell_type": "code",
      "source": [
        "def compute_cost(X, y, weights):\n",
        "    m = len(y)\n",
        "    predictions = sigmoid(np.dot(X, weights))\n",
        "    cost = -(1 / m) * np.sum(y * np.log(predictions) + (1 - y) * np.log(1 - predictions))\n",
        "    return cost"
      ],
      "metadata": {
        "id": "BBhbLPwgDQFB"
      },
      "execution_count": null,
      "outputs": []
    },
    {
      "cell_type": "markdown",
      "source": [
        "**Gradient Descent: performs updates on weights to minimize the cost**"
      ],
      "metadata": {
        "id": "WKnTlnbkEUCD"
      }
    },
    {
      "cell_type": "code",
      "source": [
        "def gradient_descent(X, y, weights, learning_rate, epochs):\n",
        "    m = len(y)\n",
        "    cost_history = []\n",
        "\n",
        "    for _ in range(epochs):\n",
        "        predictions = sigmoid(np.dot(X, weights))\n",
        "        gradient = (1 / m) * np.dot(X.T, (predictions - y))\n",
        "        weights -= learning_rate * gradient\n",
        "\n",
        "        # Store the cost at each iteration\n",
        "        cost_history.append(compute_cost(X, y, weights))\n",
        "\n",
        "    return weights, cost_history\n",
        "\n",
        "\n"
      ],
      "metadata": {
        "id": "ZZVRoAmaDQHd"
      },
      "execution_count": null,
      "outputs": []
    },
    {
      "cell_type": "markdown",
      "source": [
        "**Logistic Regression function**"
      ],
      "metadata": {
        "id": "NFAjpTBvEZ-m"
      }
    },
    {
      "cell_type": "code",
      "source": [
        "def logistic_regression(X, y, learning_rate=0.01, epochs=1000):\n",
        "    # Add a column of ones for the intercept term (bias)\n",
        "    X = np.c_[np.ones(X.shape[0]), X]\n",
        "\n",
        "    # Initialize weights randomly\n",
        "    weights = np.zeros(X.shape[1])\n",
        "\n",
        "    # Perform gradient descent\n",
        "    weights, cost_history = gradient_descent(X, y, weights, learning_rate, epochs)\n",
        "\n",
        "    return weights, cost_history\n"
      ],
      "metadata": {
        "id": "8SPxsdqzDQLI"
      },
      "execution_count": null,
      "outputs": []
    },
    {
      "cell_type": "markdown",
      "source": [
        "**Prediction function using learned weights**"
      ],
      "metadata": {
        "id": "uo6P8V3gEe0o"
      }
    },
    {
      "cell_type": "code",
      "source": [
        "def predict(X, weights):\n",
        "    # Add a column of ones for the intercept term (bias)\n",
        "    X = np.c_[np.ones(X.shape[0]), X]\n",
        "\n",
        "    # Compute probabilities using sigmoid\n",
        "    probabilities = sigmoid(np.dot(X, weights))\n",
        "\n",
        "    # Convert probabilities to binary predictions (0 or 1)\n",
        "    predictions = (probabilities >= 0.5).astype(int)\n",
        "\n",
        "    return predictions\n"
      ],
      "metadata": {
        "id": "UhI2iZt_DQNl"
      },
      "execution_count": null,
      "outputs": []
    },
    {
      "cell_type": "code",
      "source": [
        "\n",
        "# Example usage\n",
        "if __name__ == \"__main__\":\n",
        "    # Example data (X: features, y: labels)\n",
        "    X = np.array([[1, 2], [2, 3], [3, 4], [4, 5], [5, 6]])\n",
        "    y = np.array([0, 0, 1, 1, 1])\n",
        "\n",
        "    # Train logistic regression model\n",
        "    weights, cost_history = logistic_regression(X, y, learning_rate=0.1, epochs=5)\n",
        "\n",
        "    print(\"Trained Weights:\", weights)\n",
        "\n",
        "    # Predictions on the training data\n",
        "    predictions = predict(X, weights)\n",
        "    print(\"Predictions:\", predictions)\n",
        "\n",
        "    # Plot cost over epochs (optional)\n",
        "\n",
        "    plt.plot(cost_history)\n",
        "    plt.xlabel('Epochs')\n",
        "    plt.ylabel('Cost')\n",
        "    plt.title('Cost vs Epochs')\n",
        "    plt.show()\n"
      ],
      "metadata": {
        "id": "shF2lVTKDQRr",
        "colab": {
          "base_uri": "https://localhost:8080/",
          "height": 507
        },
        "outputId": "2e05a477-9bf2-47e2-82ef-9874bdacd5ac"
      },
      "execution_count": null,
      "outputs": [
        {
          "output_type": "stream",
          "name": "stdout",
          "text": [
            "Trained Weights: [-0.03044702  0.16748276  0.13703575]\n",
            "Predictions: [1 1 1 1 1]\n"
          ]
        },
        {
          "output_type": "display_data",
          "data": {
            "text/plain": [
              "<Figure size 640x480 with 1 Axes>"
            ],
            "image/png": "[encoded data removed]"
          },
          "metadata": {}
        }
      ]
    }
  ]
}